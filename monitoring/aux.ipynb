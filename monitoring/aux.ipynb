{
 "cells": [
  {
   "cell_type": "code",
   "execution_count": 1,
   "metadata": {},
   "outputs": [],
   "source": [
    "import pandas as pd"
   ]
  },
  {
   "attachments": {},
   "cell_type": "markdown",
   "metadata": {},
   "source": [
    "# Qual o tipo de cada parametro nos registros?"
   ]
  },
  {
   "cell_type": "code",
   "execution_count": 86,
   "metadata": {},
   "outputs": [],
   "source": [
    "df = pd.read_json(\"batch_records.json\")"
   ]
  },
  {
   "cell_type": "code",
   "execution_count": 87,
   "metadata": {},
   "outputs": [
    {
     "data": {
      "text/html": [
       "<div>\n",
       "<style scoped>\n",
       "    .dataframe tbody tr th:only-of-type {\n",
       "        vertical-align: middle;\n",
       "    }\n",
       "\n",
       "    .dataframe tbody tr th {\n",
       "        vertical-align: top;\n",
       "    }\n",
       "\n",
       "    .dataframe thead th {\n",
       "        text-align: right;\n",
       "    }\n",
       "</style>\n",
       "<table border=\"1\" class=\"dataframe\">\n",
       "  <thead>\n",
       "    <tr style=\"text-align: right;\">\n",
       "      <th></th>\n",
       "      <th>VAR2</th>\n",
       "      <th>IDADE</th>\n",
       "      <th>VAR5</th>\n",
       "      <th>VAR6</th>\n",
       "      <th>VAR7</th>\n",
       "      <th>VAR8</th>\n",
       "      <th>VAR9</th>\n",
       "      <th>VAR10</th>\n",
       "      <th>VAR11</th>\n",
       "      <th>VAR12</th>\n",
       "      <th>...</th>\n",
       "      <th>VAR135</th>\n",
       "      <th>VAR136</th>\n",
       "      <th>VAR137</th>\n",
       "      <th>VAR138</th>\n",
       "      <th>VAR139</th>\n",
       "      <th>VAR140</th>\n",
       "      <th>VAR141</th>\n",
       "      <th>VAR142</th>\n",
       "      <th>REF_DATE</th>\n",
       "      <th>TARGET</th>\n",
       "    </tr>\n",
       "  </thead>\n",
       "  <tbody>\n",
       "    <tr>\n",
       "      <th>0</th>\n",
       "      <td>M</td>\n",
       "      <td>43.893</td>\n",
       "      <td>PR</td>\n",
       "      <td>-25.495571</td>\n",
       "      <td>-49.245499</td>\n",
       "      <td>D</td>\n",
       "      <td>E</td>\n",
       "      <td>MEDIA</td>\n",
       "      <td>1.0</td>\n",
       "      <td>0.182</td>\n",
       "      <td>...</td>\n",
       "      <td>MEDIO</td>\n",
       "      <td>MEDIO</td>\n",
       "      <td>MEDIO</td>\n",
       "      <td>MEDIO</td>\n",
       "      <td>MEDIO</td>\n",
       "      <td>MUITO PROXIMO</td>\n",
       "      <td>3970.113648</td>\n",
       "      <td>C</td>\n",
       "      <td>2017-03-25 00:00:00+00:00</td>\n",
       "      <td>1</td>\n",
       "    </tr>\n",
       "    <tr>\n",
       "      <th>1</th>\n",
       "      <td>F</td>\n",
       "      <td>31.559</td>\n",
       "      <td>RS</td>\n",
       "      <td>-30.109092</td>\n",
       "      <td>-51.323827</td>\n",
       "      <td>E</td>\n",
       "      <td>E</td>\n",
       "      <td>ALTISSIMA</td>\n",
       "      <td>0.0</td>\n",
       "      <td>0.055</td>\n",
       "      <td>...</td>\n",
       "      <td>MUITO PROXIMO</td>\n",
       "      <td>MEDIO</td>\n",
       "      <td>LONGE</td>\n",
       "      <td>LONGE</td>\n",
       "      <td>LONGE</td>\n",
       "      <td>MUITO PROXIMO</td>\n",
       "      <td>1513.227400</td>\n",
       "      <td>E</td>\n",
       "      <td>2017-08-31 00:00:00+00:00</td>\n",
       "      <td>1</td>\n",
       "    </tr>\n",
       "    <tr>\n",
       "      <th>2</th>\n",
       "      <td>M</td>\n",
       "      <td>42.918</td>\n",
       "      <td>SP</td>\n",
       "      <td>-23.561438</td>\n",
       "      <td>-46.626433</td>\n",
       "      <td>E</td>\n",
       "      <td>E</td>\n",
       "      <td>ALTA</td>\n",
       "      <td>0.0</td>\n",
       "      <td>NaN</td>\n",
       "      <td>...</td>\n",
       "      <td>MEDIO</td>\n",
       "      <td>PROXIMO</td>\n",
       "      <td>MEDIO</td>\n",
       "      <td>PROXIMO</td>\n",
       "      <td>MEDIO</td>\n",
       "      <td>MEDIO</td>\n",
       "      <td>1815.143850</td>\n",
       "      <td>E</td>\n",
       "      <td>2017-03-30 00:00:00+00:00</td>\n",
       "      <td>1</td>\n",
       "    </tr>\n",
       "    <tr>\n",
       "      <th>3</th>\n",
       "      <td>F</td>\n",
       "      <td>64.811</td>\n",
       "      <td>SP</td>\n",
       "      <td>-23.434434</td>\n",
       "      <td>-46.790104</td>\n",
       "      <td>None</td>\n",
       "      <td>E</td>\n",
       "      <td>MEDIA</td>\n",
       "      <td>NaN</td>\n",
       "      <td>0.109</td>\n",
       "      <td>...</td>\n",
       "      <td>LONGE</td>\n",
       "      <td>PROXIMO</td>\n",
       "      <td>LONGE</td>\n",
       "      <td>LONGE</td>\n",
       "      <td>PROXIMO</td>\n",
       "      <td>MUITO PROXIMO</td>\n",
       "      <td>1534.131957</td>\n",
       "      <td>E</td>\n",
       "      <td>2017-08-24 00:00:00+00:00</td>\n",
       "      <td>1</td>\n",
       "    </tr>\n",
       "    <tr>\n",
       "      <th>4</th>\n",
       "      <td>M</td>\n",
       "      <td>21.959</td>\n",
       "      <td>AM</td>\n",
       "      <td>-3.130695</td>\n",
       "      <td>-58.441465</td>\n",
       "      <td>E</td>\n",
       "      <td>E</td>\n",
       "      <td>BAIXISSIMA</td>\n",
       "      <td>0.0</td>\n",
       "      <td>NaN</td>\n",
       "      <td>...</td>\n",
       "      <td>MEDIO</td>\n",
       "      <td>MUITO LONGE</td>\n",
       "      <td>MEDIO</td>\n",
       "      <td>MUITO LONGE</td>\n",
       "      <td>MEDIO</td>\n",
       "      <td>MUITO LONGE</td>\n",
       "      <td>1570.642421</td>\n",
       "      <td>E</td>\n",
       "      <td>2017-01-14 00:00:00+00:00</td>\n",
       "      <td>1</td>\n",
       "    </tr>\n",
       "  </tbody>\n",
       "</table>\n",
       "<p>5 rows × 120 columns</p>\n",
       "</div>"
      ],
      "text/plain": [
       "  VAR2   IDADE VAR5       VAR6       VAR7  VAR8 VAR9       VAR10  VAR11  \\\n",
       "0    M  43.893   PR -25.495571 -49.245499     D    E       MEDIA    1.0   \n",
       "1    F  31.559   RS -30.109092 -51.323827     E    E   ALTISSIMA    0.0   \n",
       "2    M  42.918   SP -23.561438 -46.626433     E    E        ALTA    0.0   \n",
       "3    F  64.811   SP -23.434434 -46.790104  None    E       MEDIA    NaN   \n",
       "4    M  21.959   AM  -3.130695 -58.441465     E    E  BAIXISSIMA    0.0   \n",
       "\n",
       "   VAR12  ...         VAR135       VAR136  VAR137       VAR138   VAR139  \\\n",
       "0  0.182  ...          MEDIO        MEDIO   MEDIO        MEDIO    MEDIO   \n",
       "1  0.055  ...  MUITO PROXIMO        MEDIO   LONGE        LONGE    LONGE   \n",
       "2    NaN  ...          MEDIO      PROXIMO   MEDIO      PROXIMO    MEDIO   \n",
       "3  0.109  ...          LONGE      PROXIMO   LONGE        LONGE  PROXIMO   \n",
       "4    NaN  ...          MEDIO  MUITO LONGE   MEDIO  MUITO LONGE    MEDIO   \n",
       "\n",
       "          VAR140       VAR141  VAR142                   REF_DATE  TARGET  \n",
       "0  MUITO PROXIMO  3970.113648       C  2017-03-25 00:00:00+00:00       1  \n",
       "1  MUITO PROXIMO  1513.227400       E  2017-08-31 00:00:00+00:00       1  \n",
       "2          MEDIO  1815.143850       E  2017-03-30 00:00:00+00:00       1  \n",
       "3  MUITO PROXIMO  1534.131957       E  2017-08-24 00:00:00+00:00       1  \n",
       "4    MUITO LONGE  1570.642421       E  2017-01-14 00:00:00+00:00       1  \n",
       "\n",
       "[5 rows x 120 columns]"
      ]
     },
     "execution_count": 87,
     "metadata": {},
     "output_type": "execute_result"
    }
   ],
   "source": [
    "df.head()"
   ]
  },
  {
   "cell_type": "code",
   "execution_count": 88,
   "metadata": {},
   "outputs": [
    {
     "name": "stdout",
     "output_type": "stream",
     "text": [
      "<class 'pandas.core.frame.DataFrame'>\n",
      "RangeIndex: 500 entries, 0 to 499\n",
      "Columns: 120 entries, VAR2 to TARGET\n",
      "dtypes: float64(19), int64(1), object(100)\n",
      "memory usage: 468.9+ KB\n"
     ]
    }
   ],
   "source": [
    "df.info()"
   ]
  },
  {
   "attachments": {},
   "cell_type": "markdown",
   "metadata": {},
   "source": [
    "usando o df.info, para verificar qual tipo foi atribuido para cada coluna pelo pandas"
   ]
  },
  {
   "cell_type": "code",
   "execution_count": 89,
   "metadata": {},
   "outputs": [
    {
     "name": "stdout",
     "output_type": "stream",
     "text": [
      "<class 'pandas.core.frame.DataFrame'>\n",
      "RangeIndex: 500 entries, 0 to 499\n",
      "Data columns (total 120 columns):\n",
      " #    Column    Dtype  \n",
      "---   ------    -----  \n",
      " 0    VAR2      object \n",
      " 1    IDADE     float64\n",
      " 2    VAR5      object \n",
      " 3    VAR6      float64\n",
      " 4    VAR7      float64\n",
      " 5    VAR8      object \n",
      " 6    VAR9      object \n",
      " 7    VAR10     object \n",
      " 8    VAR11     float64\n",
      " 9    VAR12     float64\n",
      " 10   VAR14     float64\n",
      " 11   VAR15     float64\n",
      " 12   VAR16     float64\n",
      " 13   VAR18     float64\n",
      " 14   VAR19     float64\n",
      " 15   VAR22     float64\n",
      " 16   VAR24     float64\n",
      " 17   VAR25     float64\n",
      " 18   VAR32     object \n",
      " 19   VAR39     float64\n",
      " 20   VAR40     float64\n",
      " 21   VAR41     float64\n",
      " 22   VAR42     float64\n",
      " 23   VAR47     float64\n",
      " 24   VAR49     object \n",
      " 25   VAR50     object \n",
      " 26   VAR51     object \n",
      " 27   VAR52     object \n",
      " 28   VAR53     object \n",
      " 29   VAR54     object \n",
      " 30   VAR55     object \n",
      " 31   VAR56     object \n",
      " 32   VAR57     object \n",
      " 33   VAR58     object \n",
      " 34   VAR59     object \n",
      " 35   VAR60     object \n",
      " 36   VAR61     object \n",
      " 37   VAR62     object \n",
      " 38   VAR63     object \n",
      " 39   VAR64     object \n",
      " 40   VAR65     object \n",
      " 41   VAR66     object \n",
      " 42   VAR67     object \n",
      " 43   VAR68     object \n",
      " 44   VAR69     object \n",
      " 45   VAR70     object \n",
      " 46   VAR71     object \n",
      " 47   VAR72     object \n",
      " 48   VAR73     object \n",
      " 49   VAR74     object \n",
      " 50   VAR75     object \n",
      " 51   VAR76     object \n",
      " 52   VAR77     object \n",
      " 53   VAR78     object \n",
      " 54   VAR79     object \n",
      " 55   VAR80     object \n",
      " 56   VAR81     object \n",
      " 57   VAR82     object \n",
      " 58   VAR83     object \n",
      " 59   VAR84     object \n",
      " 60   VAR85     object \n",
      " 61   VAR86     object \n",
      " 62   VAR87     object \n",
      " 63   VAR88     object \n",
      " 64   VAR89     object \n",
      " 65   VAR90     object \n",
      " 66   VAR91     object \n",
      " 67   VAR92     object \n",
      " 68   VAR93     object \n",
      " 69   VAR94     object \n",
      " 70   VAR95     object \n",
      " 71   VAR96     object \n",
      " 72   VAR97     object \n",
      " 73   VAR98     object \n",
      " 74   VAR99     object \n",
      " 75   VAR100    object \n",
      " 76   VAR101    object \n",
      " 77   VAR102    object \n",
      " 78   VAR103    object \n",
      " 79   VAR104    object \n",
      " 80   VAR105    object \n",
      " 81   VAR106    object \n",
      " 82   VAR107    object \n",
      " 83   VAR108    object \n",
      " 84   VAR109    object \n",
      " 85   VAR110    object \n",
      " 86   VAR111    object \n",
      " 87   VAR112    object \n",
      " 88   VAR113    object \n",
      " 89   VAR114    object \n",
      " 90   VAR115    object \n",
      " 91   VAR116    object \n",
      " 92   VAR117    object \n",
      " 93   VAR118    object \n",
      " 94   VAR119    object \n",
      " 95   VAR120    object \n",
      " 96   VAR121    object \n",
      " 97   VAR122    object \n",
      " 98   VAR123    object \n",
      " 99   VAR124    object \n",
      " 100  VAR125    object \n",
      " 101  VAR126    object \n",
      " 102  VAR127    object \n",
      " 103  VAR128    object \n",
      " 104  VAR129    object \n",
      " 105  VAR130    object \n",
      " 106  VAR131    object \n",
      " 107  VAR132    object \n",
      " 108  VAR133    object \n",
      " 109  VAR134    object \n",
      " 110  VAR135    object \n",
      " 111  VAR136    object \n",
      " 112  VAR137    object \n",
      " 113  VAR138    object \n",
      " 114  VAR139    object \n",
      " 115  VAR140    object \n",
      " 116  VAR141    float64\n",
      " 117  VAR142    object \n",
      " 118  REF_DATE  object \n",
      " 119  TARGET    int64  \n",
      "dtypes: float64(19), int64(1), object(100)\n",
      "memory usage: 468.9+ KB\n"
     ]
    }
   ],
   "source": [
    "df.info(verbose=1)"
   ]
  },
  {
   "attachments": {},
   "cell_type": "markdown",
   "metadata": {},
   "source": [
    "## Criando um parser simples, para criar um dicionario com o tipo de cada variavel no registro"
   ]
  },
  {
   "cell_type": "code",
   "execution_count": 90,
   "metadata": {},
   "outputs": [],
   "source": [
    "dtypes = \"\"\" 0    VAR2      object \n",
    " 1    IDADE     float64\n",
    " 2    VAR5      object \n",
    " 3    VAR6      float64\n",
    " 4    VAR7      float64\n",
    " 5    VAR8      object \n",
    " 6    VAR9      object \n",
    " 7    VAR10     object \n",
    " 8    VAR11     float64\n",
    " 9    VAR12     float64\n",
    " 10   VAR14     float64\n",
    " 11   VAR15     float64\n",
    " 12   VAR16     float64\n",
    " 13   VAR18     float64\n",
    " 14   VAR19     float64\n",
    " 15   VAR22     float64\n",
    " 16   VAR24     float64\n",
    " 17   VAR25     float64\n",
    " 18   VAR32     object \n",
    " 19   VAR39     float64\n",
    " 20   VAR40     float64\n",
    " 21   VAR41     float64\n",
    " 22   VAR42     float64\n",
    " 23   VAR47     float64\n",
    " 24   VAR49     object \n",
    " 25   VAR50     object \n",
    " 26   VAR51     object \n",
    " 27   VAR52     object \n",
    " 28   VAR53     object \n",
    " 29   VAR54     object \n",
    " 30   VAR55     object \n",
    " 31   VAR56     object \n",
    " 32   VAR57     object \n",
    " 33   VAR58     object \n",
    " 34   VAR59     object \n",
    " 35   VAR60     object \n",
    " 36   VAR61     object \n",
    " 37   VAR62     object \n",
    " 38   VAR63     object \n",
    " 39   VAR64     object \n",
    " 40   VAR65     object \n",
    " 41   VAR66     object \n",
    " 42   VAR67     object \n",
    " 43   VAR68     object \n",
    " 44   VAR69     object \n",
    " 45   VAR70     object \n",
    " 46   VAR71     object \n",
    " 47   VAR72     object \n",
    " 48   VAR73     object \n",
    " 49   VAR74     object \n",
    " 50   VAR75     object \n",
    " 51   VAR76     object \n",
    " 52   VAR77     object \n",
    " 53   VAR78     object \n",
    " 54   VAR79     object \n",
    " 55   VAR80     object \n",
    " 56   VAR81     object \n",
    " 57   VAR82     object \n",
    " 58   VAR83     object \n",
    " 59   VAR84     object \n",
    " 60   VAR85     object \n",
    " 61   VAR86     object \n",
    " 62   VAR87     object \n",
    " 63   VAR88     object \n",
    " 64   VAR89     object \n",
    " 65   VAR90     object \n",
    " 66   VAR91     object \n",
    " 67   VAR92     object \n",
    " 68   VAR93     object \n",
    " 69   VAR94     object \n",
    " 70   VAR95     object \n",
    " 71   VAR96     object \n",
    " 72   VAR97     object \n",
    " 73   VAR98     object \n",
    " 74   VAR99     object \n",
    " 75   VAR100    object \n",
    " 76   VAR101    object \n",
    " 77   VAR102    object \n",
    " 78   VAR103    object \n",
    " 79   VAR104    object \n",
    " 80   VAR105    object \n",
    " 81   VAR106    object \n",
    " 82   VAR107    object \n",
    " 83   VAR108    object \n",
    " 84   VAR109    object \n",
    " 85   VAR110    object \n",
    " 86   VAR111    object \n",
    " 87   VAR112    object \n",
    " 88   VAR113    object \n",
    " 89   VAR114    object \n",
    " 90   VAR115    object \n",
    " 91   VAR116    object \n",
    " 92   VAR117    object \n",
    " 93   VAR118    object \n",
    " 94   VAR119    object \n",
    " 95   VAR120    object \n",
    " 96   VAR121    object \n",
    " 97   VAR122    object \n",
    " 98   VAR123    object \n",
    " 99   VAR124    object \n",
    " 100  VAR125    object \n",
    " 101  VAR126    object \n",
    " 102  VAR127    object \n",
    " 103  VAR128    object \n",
    " 104  VAR129    object \n",
    " 105  VAR130    object \n",
    " 106  VAR131    object \n",
    " 107  VAR132    object \n",
    " 108  VAR133    object \n",
    " 109  VAR134    object \n",
    " 110  VAR135    object \n",
    " 111  VAR136    object \n",
    " 112  VAR137    object \n",
    " 113  VAR138    object \n",
    " 114  VAR139    object \n",
    " 115  VAR140    object \n",
    " 116  VAR141    float64\n",
    " 117  VAR142    object \n",
    " 118  REF_DATE  object \n",
    " 119  TARGET    int64 \"\"\""
   ]
  },
  {
   "cell_type": "code",
   "execution_count": 91,
   "metadata": {},
   "outputs": [
    {
     "name": "stdout",
     "output_type": "stream",
     "text": [
      "VAR2: str = None\n",
      "IDADE: float = None\n",
      "VAR5: str = None\n",
      "VAR6: float = None\n",
      "VAR7: float = None\n",
      "VAR8: str = None\n",
      "VAR9: str = None\n",
      "VAR10: str = None\n",
      "VAR11: float = None\n",
      "VAR12: float = None\n",
      "VAR14: float = None\n",
      "VAR15: float = None\n",
      "VAR16: float = None\n",
      "VAR18: float = None\n",
      "VAR19: float = None\n",
      "VAR22: float = None\n",
      "VAR24: float = None\n",
      "VAR25: float = None\n",
      "VAR32: str = None\n",
      "VAR39: float = None\n",
      "VAR40: float = None\n",
      "VAR41: float = None\n",
      "VAR42: float = None\n",
      "VAR47: float = None\n",
      "VAR49: str = None\n",
      "VAR50: str = None\n",
      "VAR51: str = None\n",
      "VAR52: str = None\n",
      "VAR53: str = None\n",
      "VAR54: str = None\n",
      "VAR55: str = None\n",
      "VAR56: str = None\n",
      "VAR57: str = None\n",
      "VAR58: str = None\n",
      "VAR59: str = None\n",
      "VAR60: str = None\n",
      "VAR61: str = None\n",
      "VAR62: str = None\n",
      "VAR63: str = None\n",
      "VAR64: str = None\n",
      "VAR65: str = None\n",
      "VAR66: str = None\n",
      "VAR67: str = None\n",
      "VAR68: str = None\n",
      "VAR69: str = None\n",
      "VAR70: str = None\n",
      "VAR71: str = None\n",
      "VAR72: str = None\n",
      "VAR73: str = None\n",
      "VAR74: str = None\n",
      "VAR75: str = None\n",
      "VAR76: str = None\n",
      "VAR77: str = None\n",
      "VAR78: str = None\n",
      "VAR79: str = None\n",
      "VAR80: str = None\n",
      "VAR81: str = None\n",
      "VAR82: str = None\n",
      "VAR83: str = None\n",
      "VAR84: str = None\n",
      "VAR85: str = None\n",
      "VAR86: str = None\n",
      "VAR87: str = None\n",
      "VAR88: str = None\n",
      "VAR89: str = None\n",
      "VAR90: str = None\n",
      "VAR91: str = None\n",
      "VAR92: str = None\n",
      "VAR93: str = None\n",
      "VAR94: str = None\n",
      "VAR95: str = None\n",
      "VAR96: str = None\n",
      "VAR97: str = None\n",
      "VAR98: str = None\n",
      "VAR99: str = None\n",
      "VAR100: str = None\n",
      "VAR101: str = None\n",
      "VAR102: str = None\n",
      "VAR103: str = None\n",
      "VAR104: str = None\n",
      "VAR105: str = None\n",
      "VAR106: str = None\n",
      "VAR107: str = None\n",
      "VAR108: str = None\n",
      "VAR109: str = None\n",
      "VAR110: str = None\n",
      "VAR111: str = None\n",
      "VAR112: str = None\n",
      "VAR113: str = None\n",
      "VAR114: str = None\n",
      "VAR115: str = None\n",
      "VAR116: str = None\n",
      "VAR117: str = None\n",
      "VAR118: str = None\n",
      "VAR119: str = None\n",
      "VAR120: str = None\n",
      "VAR121: str = None\n",
      "VAR122: str = None\n",
      "VAR123: str = None\n",
      "VAR124: str = None\n",
      "VAR125: str = None\n",
      "VAR126: str = None\n",
      "VAR127: str = None\n",
      "VAR128: str = None\n",
      "VAR129: str = None\n",
      "VAR130: str = None\n",
      "VAR131: str = None\n",
      "VAR132: str = None\n",
      "VAR133: str = None\n",
      "VAR134: str = None\n",
      "VAR135: str = None\n",
      "VAR136: str = None\n",
      "VAR137: str = None\n",
      "VAR138: str = None\n",
      "VAR139: str = None\n",
      "VAR140: str = None\n",
      "VAR141: float = None\n",
      "VAR142: str = None\n",
      "REF_DATE: str = None\n",
      "TARGET: int = None\n"
     ]
    }
   ],
   "source": [
    "import re\n",
    "for line in dtypes.split(\"\\n\"): #cada linha possui uma coluna/variavel\n",
    "    filtered_line = re.sub(\"^\\d*\",\"\",line.strip()) #removendo o numero da linha\n",
    "    aux = filtered_line.split() #agora temos apenas os valores que nos interessam, o nome da coluna/variavel/feature e seu tipo\n",
    "    var_name = aux[0]\n",
    "    var_type = aux[-1] if aux[-1] != 'object' else 'str' #renomeando object para str\n",
    "    var_type = re.sub(\"\\d*\",\"\",var_type) #apenas removendo o 64 do int64 e float64\n",
    "    print(f\"{var_name}: {var_type} = None\")"
   ]
  },
  {
   "cell_type": "code",
   "execution_count": 10,
   "metadata": {},
   "outputs": [],
   "source": [
    "import pickle\n",
    "def load_model():\n",
    "    with open(\"model.pkl\",\"rb\") as f:\n",
    "        return pickle.load(f)\n",
    "    \n",
    "def load_dataset(file_path = '../batch_records.json'):\n",
    "    return pd.read_json(file_path)\n",
    "\n",
    "def load_compressed_dataset(file_path):\n",
    "    return pd.read_csv(file_path,compression='gzip')"
   ]
  },
  {
   "cell_type": "code",
   "execution_count": 11,
   "metadata": {},
   "outputs": [],
   "source": [
    "import numpy as np"
   ]
  },
  {
   "cell_type": "code",
   "execution_count": 14,
   "metadata": {},
   "outputs": [],
   "source": [
    "from scipy import stats\n",
    "import pandas as pd"
   ]
  },
  {
   "cell_type": "code",
   "execution_count": 15,
   "metadata": {},
   "outputs": [
    {
     "name": "stderr",
     "output_type": "stream",
     "text": [
      "/tmp/ipykernel_110521/1202224890.py:5: DtypeWarning: Columns (45) have mixed types.Specify dtype option on import or set low_memory=False.\n",
      "  df_test = load_compressed_dataset(\"../datasets/credit_01/test.gz\")\n"
     ]
    }
   ],
   "source": [
    "#load the model\n",
    "model = load_model()\n",
    "\n",
    "#load the datasets\n",
    "df_test = load_compressed_dataset(\"../datasets/credit_01/test.gz\")\n",
    "df_input = load_compressed_dataset(\"../datasets/credit_01/oot.gz\")\n",
    "\n",
    "#filter Null values\n",
    "df_test.fillna(value=np.nan,inplace=True)\n",
    "df_input.fillna(value=np.nan,inplace=True)\n",
    "\n",
    "#predict both datasets\n",
    "pred_test = model.predict_proba(df_test.drop([\"REF_DATE\",\"TARGET\"],axis=1))[:,1]\n",
    "#oot doesn't have the target column\n",
    "try:\n",
    "    df_input = df_input.drop([\"REF_DATE\",\"TARGET\"],axis=1)\n",
    "except:\n",
    "    df_input = df_input.drop([\"REF_DATE\"],axis=1)\n",
    "    df_input = df_input.replace('MUITO PROXIMO',np.NAN)  #cleaning the unexpected value\n",
    "pred_input = model.predict_proba(df_input)[:,1]"
   ]
  },
  {
   "cell_type": "code",
   "execution_count": 16,
   "metadata": {},
   "outputs": [
    {
     "data": {
      "text/plain": [
       "NormaltestResult(statistic=51081.78589676617, pvalue=0.0)"
      ]
     },
     "execution_count": 16,
     "metadata": {},
     "output_type": "execute_result"
    }
   ],
   "source": [
    "stats.normaltest(pred_test)"
   ]
  },
  {
   "cell_type": "code",
   "execution_count": 17,
   "metadata": {},
   "outputs": [
    {
     "data": {
      "text/plain": [
       "NormaltestResult(statistic=26864.129951799216, pvalue=0.0)"
      ]
     },
     "execution_count": 17,
     "metadata": {},
     "output_type": "execute_result"
    }
   ],
   "source": [
    "stats.normaltest(pred_input)"
   ]
  },
  {
   "cell_type": "code",
   "execution_count": 18,
   "metadata": {},
   "outputs": [],
   "source": [
    "df_input = load_compressed_dataset(\"../datasets/credit_01/train.gz\")\n",
    "\n",
    "df_input.fillna(value=np.nan,inplace=True)\n",
    "\n",
    "try:\n",
    "    df_input = df_input.drop([\"REF_DATE\",\"TARGET\"],axis=1)\n",
    "except:\n",
    "    df_input = df_input.drop([\"REF_DATE\"],axis=1)\n",
    "    df_input = df_input.replace('MUITO PROXIMO',np.NAN)  #cleaning the unexpected value\n",
    "pred_input = model.predict_proba(df_input)[:,1]"
   ]
  },
  {
   "cell_type": "code",
   "execution_count": 19,
   "metadata": {},
   "outputs": [
    {
     "data": {
      "text/plain": [
       "NormaltestResult(statistic=96109.0527627943, pvalue=0.0)"
      ]
     },
     "execution_count": 19,
     "metadata": {},
     "output_type": "execute_result"
    }
   ],
   "source": [
    "stats.normaltest(pred_input)"
   ]
  },
  {
   "cell_type": "code",
   "execution_count": 22,
   "metadata": {},
   "outputs": [
    {
     "data": {
      "text/plain": [
       "array([[<AxesSubplot: title={'center': '0'}>]], dtype=object)"
      ]
     },
     "execution_count": 22,
     "metadata": {},
     "output_type": "execute_result"
    },
    {
     "data": {
      "image/png": "[encoded data removed]",
      "text/plain": [
       "<Figure size 432x288 with 1 Axes>"
      ]
     },
     "metadata": {
      "needs_background": "light"
     },
     "output_type": "display_data"
    }
   ],
   "source": [
    "pd.DataFrame(pred_test).hist()"
   ]
  },
  {
   "cell_type": "code",
   "execution_count": 21,
   "metadata": {},
   "outputs": [
    {
     "data": {
      "text/plain": [
       "array([[<AxesSubplot: title={'center': '0'}>]], dtype=object)"
      ]
     },
     "execution_count": 21,
     "metadata": {},
     "output_type": "execute_result"
    },
    {
     "data": {
      "image/png": "[encoded data removed]",
      "text/plain": [
       "<Figure size 432x288 with 1 Axes>"
      ]
     },
     "metadata": {
      "needs_background": "light"
     },
     "output_type": "display_data"
    }
   ],
   "source": [
    "pd.DataFrame(pred_input).hist()"
   ]
  },
  {
   "attachments": {},
   "cell_type": "markdown",
   "metadata": {},
   "source": [
    "Como os pvalues são infimos, então as 3 distribuições não são advindas de uma distribuição normal.\n",
    "Fiz esse experimento pra checar a possibilidade de usar a distribuição de pearson. Porém a mannwitheyu poderá ser usada."
   ]
  },
  {
   "cell_type": "code",
   "execution_count": 24,
   "metadata": {},
   "outputs": [
    {
     "data": {
      "text/plain": [
       "MannwhitneyuResult(statistic=2518333380.0, pvalue=0.9733967684414647)"
      ]
     },
     "execution_count": 24,
     "metadata": {},
     "output_type": "execute_result"
    }
   ],
   "source": [
    "stats.mannwhitneyu(pred_test,pred_input)"
   ]
  },
  {
   "cell_type": "code",
   "execution_count": null,
   "metadata": {},
   "outputs": [],
   "source": []
  }
 ],
 "metadata": {
  "kernelspec": {
   "display_name": "Python 3",
   "language": "python",
   "name": "python3"
  },
  "language_info": {
   "codemirror_mode": {
    "name": "ipython",
    "version": 3
   },
   "file_extension": ".py",
   "mimetype": "text/x-python",
   "name": "python",
   "nbconvert_exporter": "python",
   "pygments_lexer": "ipython3",
   "version": "3.8.10"
  },
  "orig_nbformat": 4
 },
 "nbformat": 4,
 "nbformat_minor": 2
}
