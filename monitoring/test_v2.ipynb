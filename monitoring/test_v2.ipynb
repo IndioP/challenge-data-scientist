{
 "cells": [
  {
   "cell_type": "code",
   "execution_count": 15,
   "metadata": {},
   "outputs": [],
   "source": [
    "import requests\n",
    "from full_obj import myobj"
   ]
  },
  {
   "attachments": {},
   "cell_type": "markdown",
   "metadata": {},
   "source": [
    "Testando o v1"
   ]
  },
  {
   "cell_type": "code",
   "execution_count": 16,
   "metadata": {},
   "outputs": [],
   "source": [
    "url = 'http://127.0.0.1:8000/v1/'\n",
    "#myobj = [\n",
    "#     {\n",
    "#        \"VAR2\": \"M\",\n",
    "#        \"IDADE\": 43.893,\n",
    "#        \"VAR5\": \"PR\",\n",
    "#        \"VAR6\": -25.4955709,\n",
    "#        \"VAR7\": -49.2454987,\n",
    "#        \"VAR8\": \"D\",\n",
    "#        \"VAR9\": \"E\",\n",
    "#        \"VAR10\": \"MEDIA\",\n",
    "#        \"VAR11\": 1.0,\n",
    "#        \"VAR12\": 0.182,\n",
    "#        \"VAR14\": 0.597,\n",
    "#        \"VAR15\": 0.618,\n",
    "#        \"VAR16\": 0.25,\n",
    "#        \"VAR18\": 1.076712,\n",
    "#        \"VAR19\": 5.057534,\n",
    "#        \"VAR22\": 0.125,\n",
    "#        \"VAR24\": 0.069,\n",
    "#        \"VAR25\": 0.0969999999999999,\n",
    "#        \"VAR32\": \"SALDO INEXISTENTE\",\n",
    "#        \"VAR39\": 0.661039,\n",
    "#        \"VAR40\": 0.573539,\n",
    "#        \"VAR41\": 0.4793699999999999,\n",
    "#        \"VAR42\": 0.4440489999999999,\n",
    "#        \"VAR47\": 0.006,\n",
    "#        \"VAR49\": \"S\",\n",
    "#        \"VAR50\": \"N\",\n",
    "#        \"VAR51\": \"N\",\n",
    "#        \"VAR52\": \"N\",\n",
    "#        \"VAR53\": \"N\",\n",
    "#        \"VAR54\": \"N\",\n",
    "#        \"VAR55\": \"N\",\n",
    "#        \"VAR56\": \"S\",\n",
    "#        \"VAR57\": \"S\",\n",
    "#        \"VAR58\": \"N\",\n",
    "#        \"VAR59\": \"N\",\n",
    "#        \"VAR60\": \"N\",\n",
    "#        \"VAR61\": \"N\",\n",
    "#        \"VAR62\": \"N\",\n",
    "#        \"VAR63\": \"N\",\n",
    "#        \"VAR64\": \"N\",\n",
    "#        \"VAR65\": \"N\",\n",
    "#        \"VAR66\": \"ALTISSIMA\",\n",
    "#        \"VAR67\": \"ALTA\",\n",
    "#        \"VAR68\": \"ALTISSIMA\",\n",
    "#        \"VAR69\": \"ALTISSIMA\",\n",
    "#        \"VAR70\": \"ALTISSIMA\",\n",
    "#        \"VAR71\": \"ALTA\",\n",
    "#        \"VAR72\": \"ALTISSIMA\",\n",
    "#        \"VAR73\": \"ALTISSIMA\",\n",
    "#        \"VAR74\": \"ALTISSIMA\",\n",
    "#        \"VAR75\": \"ALTISSIMA\",\n",
    "#        \"VAR76\": \"ALTA\",\n",
    "#        \"VAR77\": \"ALTISSIMA\",\n",
    "#        \"VAR78\": \"ALTISSIMA\",\n",
    "#        \"VAR79\": \"ALTISSIMA\",\n",
    "#        \"VAR80\": \"ALTA\",\n",
    "#        \"VAR81\": \"ALTA\",\n",
    "#        \"VAR82\": \"ALTISSIMA\",\n",
    "#        \"VAR83\": \"ALTISSIMA\",\n",
    "#        \"VAR84\": \"ALTA\",\n",
    "#        \"VAR85\": \"ALTA\",\n",
    "#        \"VAR86\": \"ALTA\",\n",
    "#        \"VAR87\": \"ALTISSIMA\",\n",
    "#        \"VAR88\": \"ALTA\",\n",
    "#        \"VAR89\": \"ALTISSIMA\",\n",
    "#        \"VAR90\": \"BAIXISSIMA\",\n",
    "#        \"VAR91\": \"ALTA\",\n",
    "#        \"VAR92\": \"ALTISSIMA\",\n",
    "#        \"VAR93\": \"ALTISSIMA\",\n",
    "#        \"VAR94\": \"ALTISSIMA\",\n",
    "#        \"VAR95\": \"ALTA\",\n",
    "#        \"VAR96\": \"ALTISSIMA\",\n",
    "#        \"VAR97\": \"ALTA\",\n",
    "#        \"VAR98\": \"ALTISSIMA\",\n",
    "#        \"VAR99\": \"ALTISSIMA\",\n",
    "#        \"VAR100\": \"BAIXISSIMA\",\n",
    "#        \"VAR101\": \"ALTA\",\n",
    "#        \"VAR102\": \"MEDIO\",\n",
    "#        \"VAR103\": \"MEDIO\",\n",
    "#        \"VAR104\": \"PROXIMO\",\n",
    "#        \"VAR105\": \"LONGE\",\n",
    "#        \"VAR106\": \"MEDIO\",\n",
    "#        \"VAR107\": \"MEDIO\",\n",
    "#        \"VAR108\": \"MEDIO\",\n",
    "#        \"VAR109\": \"MEDIO\",\n",
    "#        \"VAR110\": \"PROXIMO\",\n",
    "#        \"VAR111\": \"MEDIO\",\n",
    "#        \"VAR112\": \"MEDIO\",\n",
    "#        \"VAR113\": \"PROXIMO\",\n",
    "#        \"VAR114\": \"PROXIMO\",\n",
    "#        \"VAR115\": \"MEDIO\",\n",
    "#        \"VAR116\": \"LONGE\",\n",
    "#        \"VAR117\": \"MEDIO\",\n",
    "#        \"VAR118\": \"MEDIO\",\n",
    "#        \"VAR119\": \"LONGE\",\n",
    "#        \"VAR120\": \"MUITO LONGE\",\n",
    "#        \"VAR121\": \"MEDIO\",\n",
    "#        \"VAR122\": \"MEDIO\",\n",
    "#        \"VAR123\": \"MEDIO\",\n",
    "#        \"VAR124\": \"MEDIO\",\n",
    "#        \"VAR125\": \"PROXIMO\",\n",
    "#        \"VAR126\": \"MEDIO\",\n",
    "#        \"VAR127\": \"PROXIMO\",\n",
    "#        \"VAR128\": \"LONGE\",\n",
    "#        \"VAR129\": \"MEDIO\",\n",
    "#        \"VAR130\": \"MEDIO\",\n",
    "#        \"VAR131\": \"MEDIO\",\n",
    "#        \"VAR132\": \"PROXIMO\",\n",
    "#        \"VAR133\": \"MEDIO\",\n",
    "#        \"VAR134\": \"PROXIMO\",\n",
    "#        \"VAR135\": \"MEDIO\",\n",
    "#        \"VAR136\": \"MEDIO\",\n",
    "#        \"VAR137\": \"MEDIO\",\n",
    "#        \"VAR138\": \"MEDIO\",\n",
    "#        \"VAR139\": \"MEDIO\",\n",
    "#        \"VAR140\": \"MUITO PROXIMO\",\n",
    "#        \"VAR141\": 3970.113648,\n",
    "#        \"VAR142\": \"C\",\n",
    "#        \"REF_DATE\": \"2017-03-25 00:00:00+00:00\",\n",
    "#        \"TARGET\": 1\n",
    "#    },\n",
    "#    {\n",
    "#        \"VAR2\": \"F\",\n",
    "#        \"IDADE\": 31.559,\n",
    "#        \"VAR5\": \"RS\",\n",
    "#        \"VAR6\": -30.1090924,\n",
    "#        \"VAR7\": -51.3238273,\n",
    "#        \"VAR8\": \"E\",\n",
    "#        \"VAR9\": \"E\",\n",
    "#        \"VAR10\": \"ALTISSIMA\",\n",
    "#        \"VAR11\": 0.0,\n",
    "#        \"VAR12\": 0.055,\n",
    "#        \"VAR14\": 0.22,\n",
    "#        \"VAR15\": 0.191,\n",
    "#        \"VAR18\": 0.690411,\n",
    "#        \"VAR19\": 2.189041,\n",
    "#        \"VAR22\": 0.375,\n",
    "#        \"VAR24\": 0.4479999999999999,\n",
    "#        \"VAR25\": 0.065,\n",
    "#        \"VAR32\": \"DECLARACAO NAO ENVIADA\",\n",
    "#        \"VAR39\": 0.429179,\n",
    "#        \"VAR40\": 0.731167,\n",
    "#        \"VAR41\": 0.75676,\n",
    "#        \"VAR42\": 0.452576,\n",
    "#        \"VAR47\": 0.001,\n",
    "#        \"VAR49\": \"S\",\n",
    "#        \"VAR50\": \"N\",\n",
    "#        \"VAR51\": \"N\",\n",
    "#        \"VAR52\": \"N\",\n",
    "#        \"VAR53\": \"N\",\n",
    "#        \"VAR54\": \"N\",\n",
    "#        \"VAR55\": \"N\",\n",
    "#        \"VAR56\": \"N\",\n",
    "#        \"VAR57\": \"N\",\n",
    "#        \"VAR58\": \"N\",\n",
    "#        \"VAR59\": \"N\",\n",
    "#        \"VAR60\": \"N\",\n",
    "#        \"VAR61\": \"N\",\n",
    "#        \"VAR62\": \"N\",\n",
    "#        \"VAR63\": \"N\",\n",
    "#        \"VAR64\": \"N\",\n",
    "#        \"VAR65\": \"N\",\n",
    "#        \"VAR66\": \"BAIXISSIMA\",\n",
    "#        \"VAR67\": \"BAIXISSIMA\",\n",
    "#        \"VAR68\": \"BAIXISSIMA\",\n",
    "#        \"VAR69\": \"ALTISSIMA\",\n",
    "#        \"VAR70\": \"BAIXISSIMA\",\n",
    "#        \"VAR71\": \"MEDIA\",\n",
    "#        \"VAR72\": \"BAIXISSIMA\",\n",
    "#        \"VAR73\": \"BAIXISSIMA\",\n",
    "#        \"VAR74\": \"BAIXISSIMA\",\n",
    "#        \"VAR75\": \"MEDIA\",\n",
    "#        \"VAR76\": \"MEDIA\",\n",
    "#        \"VAR77\": \"BAIXISSIMA\",\n",
    "#        \"VAR78\": \"BAIXISSIMA\",\n",
    "#        \"VAR79\": \"BAIXISSIMA\",\n",
    "#        \"VAR80\": \"BAIXISSIMA\",\n",
    "#        \"VAR81\": \"MEDIA\",\n",
    "#        \"VAR82\": \"BAIXISSIMA\",\n",
    "#        \"VAR83\": \"BAIXISSIMA\",\n",
    "#        \"VAR84\": \"BAIXISSIMA\",\n",
    "#        \"VAR85\": \"BAIXISSIMA\",\n",
    "#        \"VAR86\": \"BAIXISSIMA\",\n",
    "#        \"VAR87\": \"BAIXISSIMA\",\n",
    "#        \"VAR88\": \"BAIXA\",\n",
    "#        \"VAR89\": \"BAIXISSIMA\",\n",
    "#        \"VAR90\": \"BAIXISSIMA\",\n",
    "#        \"VAR91\": \"MEDIA\",\n",
    "#        \"VAR92\": \"BAIXISSIMA\",\n",
    "#        \"VAR93\": \"BAIXISSIMA\",\n",
    "#        \"VAR94\": \"BAIXISSIMA\",\n",
    "#        \"VAR95\": \"BAIXISSIMA\",\n",
    "#        \"VAR96\": \"BAIXA\",\n",
    "#        \"VAR97\": \"MEDIA\",\n",
    "#        \"VAR98\": \"BAIXISSIMA\",\n",
    "#        \"VAR99\": \"MEDIA\",\n",
    "#        \"VAR100\": \"BAIXISSIMA\",\n",
    "#        \"VAR101\": \"BAIXISSIMA\",\n",
    "#        \"VAR102\": \"LONGE\",\n",
    "#        \"VAR103\": \"MUITO LONGE\",\n",
    "#        \"VAR104\": \"MUITO LONGE\",\n",
    "#        \"VAR105\": \"LONGE\",\n",
    "#        \"VAR106\": \"MUITO LONGE\",\n",
    "#        \"VAR107\": \"LONGE\",\n",
    "#        \"VAR108\": \"MEDIO\",\n",
    "#        \"VAR109\": \"LONGE\",\n",
    "#        \"VAR110\": \"LONGE\",\n",
    "#        \"VAR111\": \"MUITO LONGE\",\n",
    "#        \"VAR112\": \"LONGE\",\n",
    "#        \"VAR113\": \"LONGE\",\n",
    "#        \"VAR114\": \"LONGE\",\n",
    "#        \"VAR115\": \"LONGE\",\n",
    "#        \"VAR116\": \"MUITO PROXIMO\",\n",
    "#        \"VAR117\": \"LONGE\",\n",
    "#        \"VAR118\": \"LONGE\",\n",
    "#        \"VAR119\": \"PROXIMO\",\n",
    "#        \"VAR120\": \"MUITO LONGE\",\n",
    "#        \"VAR121\": \"PROXIMO\",\n",
    "#        \"VAR122\": \"MUITO LONGE\",\n",
    "#        \"VAR123\": \"MUITO LONGE\",\n",
    "#        \"VAR124\": \"MUITO LONGE\",\n",
    "#        \"VAR125\": \"LONGE\",\n",
    "#        \"VAR126\": \"LONGE\",\n",
    "#        \"VAR127\": \"MEDIO\",\n",
    "#        \"VAR128\": \"MUITO PROXIMO\",\n",
    "#        \"VAR129\": \"MUITO LONGE\",\n",
    "#        \"VAR130\": \"LONGE\",\n",
    "#        \"VAR131\": \"LONGE\",\n",
    "#        \"VAR132\": \"MUITO PROXIMO\",\n",
    "#        \"VAR133\": \"MUITO PROXIMO\",\n",
    "#        \"VAR134\": \"MUITO LONGE\",\n",
    "#        \"VAR135\": \"MUITO PROXIMO\",\n",
    "#        \"VAR136\": \"MEDIO\",\n",
    "#        \"VAR137\": \"LONGE\",\n",
    "#        \"VAR138\": \"LONGE\",\n",
    "#        \"VAR139\": \"LONGE\",\n",
    "#        \"VAR140\": \"MUITO PROXIMO\",\n",
    "#        \"VAR141\": 1513.2274,\n",
    "#        \"VAR142\": \"E\",\n",
    "#        \"REF_DATE\": \"2017-08-31 00:00:00+00:00\",\n",
    "#        \"TARGET\": 1\n",
    "#    }\n",
    "#]"
   ]
  },
  {
   "cell_type": "code",
   "execution_count": 17,
   "metadata": {},
   "outputs": [],
   "source": [
    "x = requests.post(url,json=myobj)"
   ]
  },
  {
   "cell_type": "code",
   "execution_count": 18,
   "metadata": {},
   "outputs": [
    {
     "data": {
      "text/plain": [
       "'{\"volumetria\":{\"July\":74,\"August\":72,\"May\":67,\"June\":63,\"March\":62,\"January\":58,\"February\":55,\"April\":49},\"ROC-AUC\":0.5751748251748252}'"
      ]
     },
     "execution_count": 18,
     "metadata": {},
     "output_type": "execute_result"
    }
   ],
   "source": [
    "x.text"
   ]
  },
  {
   "attachments": {},
   "cell_type": "markdown",
   "metadata": {},
   "source": [
    "Testando o dataset oot"
   ]
  },
  {
   "cell_type": "code",
   "execution_count": 19,
   "metadata": {},
   "outputs": [],
   "source": [
    "url = 'http://127.0.0.1:8000/v2/?file_path=..%2F..%2Fdatasets%2Fcredit_01%2Foot.gz'"
   ]
  },
  {
   "cell_type": "code",
   "execution_count": 20,
   "metadata": {},
   "outputs": [],
   "source": [
    "x = requests.post(url)\n"
   ]
  },
  {
   "cell_type": "code",
   "execution_count": 21,
   "metadata": {},
   "outputs": [
    {
     "name": "stdout",
     "output_type": "stream",
     "text": [
      "{\"estatistica de Kolmogorov-Smirnov\":0.09172708533663676,\"p\":1.0236104206010673e-225}\n"
     ]
    }
   ],
   "source": [
    "print(x.text)"
   ]
  },
  {
   "attachments": {},
   "cell_type": "markdown",
   "metadata": {},
   "source": [
    "Testando o dataset de teste"
   ]
  },
  {
   "cell_type": "code",
   "execution_count": 22,
   "metadata": {},
   "outputs": [],
   "source": [
    "url = 'http://127.0.0.1:8000/v2/?file_path=..%2F..%2Fdatasets%2Fcredit_01%2Ftest.gz'"
   ]
  },
  {
   "cell_type": "code",
   "execution_count": 23,
   "metadata": {},
   "outputs": [],
   "source": [
    "x = requests.post(url)"
   ]
  },
  {
   "cell_type": "code",
   "execution_count": 24,
   "metadata": {},
   "outputs": [
    {
     "name": "stdout",
     "output_type": "stream",
     "text": [
      "{\"estatistica de Kolmogorov-Smirnov\":0.0,\"p\":1.0}\n"
     ]
    }
   ],
   "source": [
    "print(x.text)"
   ]
  },
  {
   "attachments": {},
   "cell_type": "markdown",
   "metadata": {},
   "source": [
    "Testando a estatistica de Mannwithneyu"
   ]
  },
  {
   "cell_type": "code",
   "execution_count": 25,
   "metadata": {},
   "outputs": [],
   "source": [
    "url = 'http://127.0.0.1:8000/v2/?file_path=..%2F..%2Fdatasets%2Fcredit_01%2Foot.gz&test=MAN'\n"
   ]
  },
  {
   "cell_type": "code",
   "execution_count": 26,
   "metadata": {},
   "outputs": [],
   "source": [
    "x = requests.post(url)"
   ]
  },
  {
   "cell_type": "code",
   "execution_count": 27,
   "metadata": {},
   "outputs": [
    {
     "name": "stdout",
     "output_type": "stream",
     "text": [
      "{\"estatistica de mannwithneyu\":1859523611.5,\"p\":1.7244757437036297e-111}\n"
     ]
    }
   ],
   "source": [
    "print(x.text)"
   ]
  },
  {
   "cell_type": "code",
   "execution_count": null,
   "metadata": {},
   "outputs": [],
   "source": []
  },
  {
   "cell_type": "code",
   "execution_count": null,
   "metadata": {},
   "outputs": [],
   "source": []
  }
 ],
 "metadata": {
  "kernelspec": {
   "display_name": "Python 3",
   "language": "python",
   "name": "python3"
  },
  "language_info": {
   "codemirror_mode": {
    "name": "ipython",
    "version": 3
   },
   "file_extension": ".py",
   "mimetype": "text/x-python",
   "name": "python",
   "nbconvert_exporter": "python",
   "pygments_lexer": "ipython3",
   "version": "3.8.10"
  },
  "orig_nbformat": 4
 },
 "nbformat": 4,
 "nbformat_minor": 2
}
